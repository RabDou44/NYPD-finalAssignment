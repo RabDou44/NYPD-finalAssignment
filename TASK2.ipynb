{
 "cells": [
  {
   "cell_type": "code",
   "execution_count": 14,
   "metadata": {},
   "outputs": [
    {
     "name": "stdout",
     "output_type": "stream",
     "text": [
      "Obtaining file:///C:/Users/adomoslaws001/nypd-finalassignment/Pitmodule\n",
      "  Preparing metadata (setup.py): started\n",
      "  Preparing metadata (setup.py): finished with status 'done'\n",
      "Requirement already satisfied: pandas in c:\\users\\adomoslaws001\\appdata\\local\\programs\\python\\python310\\lib\\site-packages (from Pitmodule==1.0) (1.3.5)\n",
      "Requirement already satisfied: numpy in c:\\users\\adomoslaws001\\appdata\\local\\programs\\python\\python310\\lib\\site-packages (from Pitmodule==1.0) (1.21.5)\n",
      "Requirement already satisfied: openpyxl in c:\\users\\adomoslaws001\\appdata\\local\\programs\\python\\python310\\lib\\site-packages (from Pitmodule==1.0) (3.0.9)\n",
      "Requirement already satisfied: xlrd in c:\\users\\adomoslaws001\\appdata\\local\\programs\\python\\python310\\lib\\site-packages (from Pitmodule==1.0) (2.0.1)\n",
      "Requirement already satisfied: et-xmlfile in c:\\users\\adomoslaws001\\appdata\\local\\programs\\python\\python310\\lib\\site-packages (from openpyxl->Pitmodule==1.0) (1.1.0)\n",
      "Requirement already satisfied: python-dateutil>=2.7.3 in c:\\users\\adomoslaws001\\appdata\\local\\programs\\python\\python310\\lib\\site-packages (from pandas->Pitmodule==1.0) (2.8.2)\n",
      "Requirement already satisfied: pytz>=2017.3 in c:\\users\\adomoslaws001\\appdata\\local\\programs\\python\\python310\\lib\\site-packages (from pandas->Pitmodule==1.0) (2021.3)\n",
      "Requirement already satisfied: six>=1.5 in c:\\users\\adomoslaws001\\appdata\\local\\programs\\python\\python310\\lib\\site-packages (from python-dateutil>=2.7.3->pandas->Pitmodule==1.0) (1.16.0)\n",
      "Installing collected packages: Pitmodule\n",
      "  Attempting uninstall: Pitmodule\n",
      "    Found existing installation: Pitmodule 1.0\n",
      "    Uninstalling Pitmodule-1.0:\n",
      "      Successfully uninstalled Pitmodule-1.0\n",
      "  Running setup.py develop for Pitmodule\n",
      "Successfully installed Pitmodule-1.0\n",
      "Note: you may need to restart the kernel to use updated packages.\n"
     ]
    }
   ],
   "source": [
    "%pip install -e \"./Pitmodule\"\n",
    "from Pitmodule.pitframe import *\n",
    "from Pitmodule.population import PopulationFrame\n",
    "import pandas as pd\n",
    "import numpy as np\n",
    "populacje2020 = PopulationFrame()\n",
    "lud_gminy = populacje2020.data[\"Gminy\"]\n",
    "pit2020 = PitFrame()"
   ]
  },
  {
   "cell_type": "code",
   "execution_count": 36,
   "metadata": {},
   "outputs": [
    {
     "ename": "AttributeError",
     "evalue": "'PitFrame' object has no attribute 'dtypes'",
     "output_type": "error",
     "traceback": [
      "\u001b[1;31m---------------------------------------------------------------------------\u001b[0m",
      "\u001b[1;31mAttributeError\u001b[0m                            Traceback (most recent call last)",
      "\u001b[1;32mC:\\Users\\ADOMOS~1\\AppData\\Local\\Temp/ipykernel_14160/1969344780.py\u001b[0m in \u001b[0;36m<module>\u001b[1;34m\u001b[0m\n\u001b[0;32m      1\u001b[0m \u001b[0mpit2020\u001b[0m \u001b[1;33m=\u001b[0m \u001b[0mPitFrame\u001b[0m\u001b[1;33m(\u001b[0m\u001b[0myear\u001b[0m\u001b[1;33m=\u001b[0m\u001b[1;36m2020\u001b[0m\u001b[1;33m)\u001b[0m\u001b[1;33m\u001b[0m\u001b[1;33m\u001b[0m\u001b[0m\n\u001b[1;32m----> 2\u001b[1;33m \u001b[0mpit2020\u001b[0m\u001b[1;33m.\u001b[0m\u001b[0mdtypes\u001b[0m\u001b[1;33m\u001b[0m\u001b[1;33m\u001b[0m\u001b[0m\n\u001b[0m",
      "\u001b[1;31mAttributeError\u001b[0m: 'PitFrame' object has no attribute 'dtypes'"
     ]
    }
   ],
   "source": [
    "pit2020 = PitFrame(year=2020)\n",
    "\n",
    "pit_gminy = pit2020.data[\"Gminy\"]\n",
    "pit_gminy.reset_index(inplace = True)\n",
    "\n",
    "pit_gminy['dochod'] = pit_gminy[\"naleznosci\"].apply(lambda x:  x/0.17)\n",
    "pit_gminy = pit_gminy[[\"jst\",\"gt\", \"dochod\"]]\n",
    "\n",
    "lud_gminy = populacje2020.data[\"Gminy\"][[\"gt\",\"jst\", \"ludnosc\"]]\n",
    "pit_gminy= pit_gminy.astype({'gt':int})\n",
    "\n",
    "\n",
    "dochody_gminy = pd.merge(pit_gminy, lud_gminy,how=\"inner\", on=['gt','jst'])\n",
    "dochody_gminy['dochod-per-osoba'] = dochody_gminy[\"dochod\"]/dochody_gminy[\"ludnosc\"]\n",
    "\n",
    "dochody_gminy"
   ]
  },
  {
   "cell_type": "code",
   "execution_count": 15,
   "metadata": {},
   "outputs": [
    {
     "ename": "AssertionError",
     "evalue": "",
     "output_type": "error",
     "traceback": [
      "\u001b[1;31m---------------------------------------------------------------------------\u001b[0m",
      "\u001b[1;31mAssertionError\u001b[0m                            Traceback (most recent call last)",
      "\u001b[1;32mC:\\Users\\ADOMOS~1\\AppData\\Local\\Temp/ipykernel_20052/847094239.py\u001b[0m in \u001b[0;36m<module>\u001b[1;34m\u001b[0m\n\u001b[0;32m      1\u001b[0m \u001b[0mpit2020\u001b[0m\u001b[1;33m.\u001b[0m\u001b[0mcount_tax_income\u001b[0m\u001b[1;33m(\u001b[0m\u001b[1;33m)\u001b[0m\u001b[1;33m\u001b[0m\u001b[1;33m\u001b[0m\u001b[0m\n\u001b[0;32m      2\u001b[0m \u001b[1;31m# pit2020.get_TASK2(populacje2020)\u001b[0m\u001b[1;33m\u001b[0m\u001b[1;33m\u001b[0m\u001b[0m\n\u001b[1;32m----> 3\u001b[1;33m \u001b[0mpit2020\u001b[0m\u001b[1;33m.\u001b[0m\u001b[0mget_TASK2\u001b[0m\u001b[1;33m(\u001b[0m\u001b[0mpopulacje2020\u001b[0m\u001b[1;33m)\u001b[0m\u001b[1;33m\u001b[0m\u001b[1;33m\u001b[0m\u001b[0m\n\u001b[0m\u001b[0;32m      4\u001b[0m \u001b[0mpit2020\u001b[0m\u001b[1;33m.\u001b[0m\u001b[0mdata\u001b[0m\u001b[1;33m[\u001b[0m\u001b[1;34m'Gminy'\u001b[0m\u001b[1;33m]\u001b[0m\u001b[1;33m\u001b[0m\u001b[1;33m\u001b[0m\u001b[0m\n",
      "\u001b[1;32mc:\\Users\\adomoslaws001\\nypd-finalassignment\\Pitmodule\\pitframe.py\u001b[0m in \u001b[0;36mget_TASK2\u001b[1;34m(self, other)\u001b[0m\n\u001b[0;32m    185\u001b[0m \u001b[1;33m\u001b[0m\u001b[0m\n\u001b[0;32m    186\u001b[0m     \u001b[1;32mdef\u001b[0m \u001b[0mget_TASK2\u001b[0m\u001b[1;33m(\u001b[0m\u001b[0mself\u001b[0m\u001b[1;33m,\u001b[0m\u001b[0mother\u001b[0m\u001b[1;33m)\u001b[0m\u001b[1;33m:\u001b[0m\u001b[1;33m\u001b[0m\u001b[1;33m\u001b[0m\u001b[0m\n\u001b[1;32m--> 187\u001b[1;33m         \u001b[1;31m# here must be assertion: other == PopulationFrame\u001b[0m\u001b[1;33m\u001b[0m\u001b[1;33m\u001b[0m\u001b[0m\n\u001b[0m\u001b[0;32m    188\u001b[0m         \u001b[0mindex\u001b[0m \u001b[1;33m=\u001b[0m \u001b[1;33m[\u001b[0m\u001b[1;34m'Gminy'\u001b[0m\u001b[1;33m,\u001b[0m\u001b[1;34m'Powiaty'\u001b[0m\u001b[1;33m,\u001b[0m\u001b[1;34m'Wojewodztwa'\u001b[0m\u001b[1;33m,\u001b[0m\u001b[1;34m'Metropolia'\u001b[0m\u001b[1;33m]\u001b[0m\u001b[1;33m\u001b[0m\u001b[1;33m\u001b[0m\u001b[0m\n\u001b[0;32m    189\u001b[0m         \u001b[1;32mfor\u001b[0m \u001b[0mx\u001b[0m \u001b[1;32min\u001b[0m \u001b[0mindex\u001b[0m\u001b[1;33m:\u001b[0m\u001b[1;33m\u001b[0m\u001b[1;33m\u001b[0m\u001b[0m\n",
      "\u001b[1;31mAssertionError\u001b[0m: "
     ]
    }
   ],
   "source": [
    "pit2020.count_tax_income()\n",
    "# pit2020.get_TASK2(populacje2020)\n",
    "pit2020.get_TASK2(populacje2020)\n",
    "pit2020.data['Gminy']"
   ]
  }
 ],
 "metadata": {
  "interpreter": {
   "hash": "826ac3d631a8b9e43178eca970c7f2771f1865bf6cdf8d43fc3d18bb77322b6e"
  },
  "kernelspec": {
   "display_name": "Python 3.10.0 64-bit",
   "language": "python",
   "name": "python3"
  },
  "language_info": {
   "codemirror_mode": {
    "name": "ipython",
    "version": 3
   },
   "file_extension": ".py",
   "mimetype": "text/x-python",
   "name": "python",
   "nbconvert_exporter": "python",
   "pygments_lexer": "ipython3",
   "version": "3.10.0"
  },
  "orig_nbformat": 4
 },
 "nbformat": 4,
 "nbformat_minor": 2
}
