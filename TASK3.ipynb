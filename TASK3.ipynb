{
 "cells": [
  {
   "cell_type": "code",
   "execution_count": 1,
   "metadata": {},
   "outputs": [
    {
     "name": "stdout",
     "output_type": "stream",
     "text": [
      "Obtaining file:///C:/Users/adomoslaws001/nypd-finalassignment/Pitmodule\n",
      "  Preparing metadata (setup.py): started\n",
      "  Preparing metadata (setup.py): finished with status 'done'\n",
      "Requirement already satisfied: pandas in c:\\users\\adomoslaws001\\appdata\\local\\programs\\python\\python310\\lib\\site-packages (from Pitmodule==1.0) (1.3.5)\n",
      "Requirement already satisfied: numpy in c:\\users\\adomoslaws001\\appdata\\local\\programs\\python\\python310\\lib\\site-packages (from Pitmodule==1.0) (1.21.5)\n",
      "Requirement already satisfied: openpyxl in c:\\users\\adomoslaws001\\appdata\\local\\programs\\python\\python310\\lib\\site-packages (from Pitmodule==1.0) (3.0.9)\n",
      "Requirement already satisfied: xlrd in c:\\users\\adomoslaws001\\appdata\\local\\programs\\python\\python310\\lib\\site-packages (from Pitmodule==1.0) (2.0.1)\n",
      "Requirement already satisfied: typing in c:\\users\\adomoslaws001\\appdata\\local\\programs\\python\\python310\\lib\\site-packages (from Pitmodule==1.0) (3.7.4.3)\n",
      "Requirement already satisfied: et-xmlfile in c:\\users\\adomoslaws001\\appdata\\local\\programs\\python\\python310\\lib\\site-packages (from openpyxl->Pitmodule==1.0) (1.1.0)\n",
      "Requirement already satisfied: python-dateutil>=2.7.3 in c:\\users\\adomoslaws001\\appdata\\local\\programs\\python\\python310\\lib\\site-packages (from pandas->Pitmodule==1.0) (2.8.2)\n",
      "Requirement already satisfied: pytz>=2017.3 in c:\\users\\adomoslaws001\\appdata\\local\\programs\\python\\python310\\lib\\site-packages (from pandas->Pitmodule==1.0) (2021.3)\n",
      "Requirement already satisfied: six>=1.5 in c:\\users\\adomoslaws001\\appdata\\local\\programs\\python\\python310\\lib\\site-packages (from python-dateutil>=2.7.3->pandas->Pitmodule==1.0) (1.16.0)\n",
      "Installing collected packages: Pitmodule\n",
      "  Attempting uninstall: Pitmodule\n",
      "    Found existing installation: Pitmodule 1.0\n",
      "    Uninstalling Pitmodule-1.0:\n",
      "      Successfully uninstalled Pitmodule-1.0\n",
      "  Running setup.py develop for Pitmodule\n",
      "Successfully installed Pitmodule-1.0\n",
      "Note: you may need to restart the kernel to use updated packages.\n"
     ]
    }
   ],
   "source": [
    "%pip install -e \"./Pitmodule\"\n",
    "from Pitmodule.pitframe import *\n",
    "from Pitmodule.population import PopulationFrame,default_tables,age_cond\n",
    "\n",
    "# liczenie wariancji w podjednstkach\n",
    "\n"
   ]
  },
  {
   "cell_type": "code",
   "execution_count": null,
   "metadata": {},
   "outputs": [],
   "source": [
    "# Wariancja dla Wojewodztw\n"
   ]
  },
  {
   "cell_type": "code",
   "execution_count": null,
   "metadata": {},
   "outputs": [],
   "source": [
    "# Wariancja dla Powiatow "
   ]
  }
 ],
 "metadata": {
  "interpreter": {
   "hash": "826ac3d631a8b9e43178eca970c7f2771f1865bf6cdf8d43fc3d18bb77322b6e"
  },
  "kernelspec": {
   "display_name": "Python 3.10.0 64-bit",
   "language": "python",
   "name": "python3"
  },
  "language_info": {
   "codemirror_mode": {
    "name": "ipython",
    "version": 3
   },
   "file_extension": ".py",
   "mimetype": "text/x-python",
   "name": "python",
   "nbconvert_exporter": "python",
   "pygments_lexer": "ipython3",
   "version": "3.10.0"
  },
  "orig_nbformat": 4
 },
 "nbformat": 4,
 "nbformat_minor": 2
}
